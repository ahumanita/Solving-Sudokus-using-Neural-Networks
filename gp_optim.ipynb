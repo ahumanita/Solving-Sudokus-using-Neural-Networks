{
  "nbformat": 4,
  "nbformat_minor": 0,
  "metadata": {
    "colab": {
      "name": "gp_optim.ipynb",
      "version": "0.3.2",
      "provenance": [],
      "collapsed_sections": []
    },
    "kernelspec": {
      "name": "python3",
      "display_name": "Python 3"
    }
  },
  "cells": [
    {
      "metadata": {
        "id": "K4x1c4Gf9e6F",
        "colab_type": "code",
        "colab": {}
      },
      "cell_type": "code",
      "source": [
        "!pip install optunity\n",
        "!pip install GPy\n",
        "!pip install sobol\n",
        "!pip install sobol_seq"
      ],
      "execution_count": 0,
      "outputs": []
    },
    {
      "metadata": {
        "id": "Q5vXp3BS8-xk",
        "colab_type": "code",
        "colab": {}
      },
      "cell_type": "code",
      "source": [
        "import optunity\n",
        "import optunity.metrics\n",
        "import numpy as np\n",
        "import math\n",
        "import pprint\n",
        "import GPy\n",
        "import sobol\n",
        "import scipy\n",
        "import matplotlib.pyplot as plt\n",
        "np.set_printoptions(suppress=True, precision=6)"
      ],
      "execution_count": 0,
      "outputs": []
    },
    {
      "metadata": {
        "id": "ZRiu-R-M_PB8",
        "colab_type": "code",
        "colab": {}
      },
      "cell_type": "code",
      "source": [
        "upperLimits = np.array([10, 1000, 10, 10000, 9])\n",
        "lowerLimits = np.array([1,10,1,10,3])"
      ],
      "execution_count": 0,
      "outputs": []
    },
    {
      "metadata": {
        "id": "fwqWkMncCPsP",
        "colab_type": "code",
        "colab": {}
      },
      "cell_type": "code",
      "source": [
        "parameters = []\n",
        "for i in range(10):\n",
        "    tp = sobol.i4_sobol(5,i)[0] * (upperLimits - lowerLimits) + lowerLimits\n",
        "    parameters.append(tp)\n",
        "parameters = np.array(parameters)"
      ],
      "execution_count": 0,
      "outputs": []
    },
    {
      "metadata": {
        "id": "_hhuGRK8NQfH",
        "colab_type": "text"
      },
      "cell_type": "markdown",
      "source": [
        "Measured values with mistake in the utility functions\n",
        "\n",
        "CL | CF | FCL | Neurons | Kernel | Acc | Function\n",
        "-- | -- \n",
        "3 | 200 | 4 | 1000 | 1 | 0.5172 | orig\n",
        "3 | 200 | 4 | 1000 | 3 | 0.6165 | orig\n",
        "3 | 200 | 4 | 1000 | 5 | 0.4363 | orig\n",
        "3 | 256 | 4 | 1000 | 7 | 0.4170 | orig\n",
        "3 | 200 | 4 | 1000 | 9 | 0.4471 | orig\n",
        "1 | 256 | 5 | 1000 | 3 | 0.4861 | orig\n",
        "2 | 256 | 5 | 500 | 3 | 0.4281 | orig\n",
        "4 | 128 | 3 | 1500 | 3 | 0.7133 | orig\n",
        "2 | 512 | 2 | 800 | 3 | 0.3588 | orig\n",
        "2 | 128 | 2 | 2000 | 3 |  0.3727 | orig\n",
        "3 | 355 | 2 | 4000 | 7 | 0.3398 | EI\n",
        "6 | 10 | 4 | 1442 | 1 | 0.29 - 0.44 | HA\n",
        "6 | 10 | 4 | 1442 | 3 | 0.5324 | orig\n",
        "3 | 572 | 3 | 2000 | 5 | 0.4325 | ~VAR\n",
        "3 | 300 | 3 | 300 | 5 | 0.5060 | EI\n",
        "3 | 300 | 4 | 100 | 5 | 0.4749 | orig\n",
        "2 | 400 | 3 | 50 | 7 | 0.4597 | orig\n",
        "3 | 214 | 4 |  1073 | 5 | 0.4347 | -ei\n",
        "4 | 417 | 5 | 64 | 7 | * | VAR\n",
        "4 | 256 | 3 | 1500 | 3 | 0.6833 | orig\n",
        "5 | 128 | 3 | 1000 | 3 |  0.7436 | orig\n",
        "5 | 256 | 3 | 1500 | 3 | 0.7204 | orig\n",
        "2 | 128 | 3 | 1500 | 7 | + | EI\n",
        "3 | 256 | 4 | 500 | 5 | 0.4766 | HA\n",
        "\n",
        "\n"
      ]
    },
    {
      "metadata": {
        "id": "4jX1V98pCZ8f",
        "colab_type": "text"
      },
      "cell_type": "markdown",
      "source": [
        "CL | CF | FCL | Neurons | Kernel | Acc | Function | LR\n",
        "-- | -- \n",
        "4 | 260 | 3 | 985 | 7 | 0.7750| EI | 0.0001\n",
        "3 | 75 | 4 | 1960 | 9 | 0.5518| Var | 0.0001\n",
        "3 | 260 | 3 | 988 | 5 | 0.5641 | ~EI | 0.001\n",
        "2 | 41 | 1 | 1287 | 7 | 0.3458 | Var | 0.001\n",
        "3 | 256 | 3 | 984 | 7 | 0.7424 | EI | 0.0001\n",
        "2 | 461 | 3 | 1679 | 9 | 0.4853 | Var | 0.0001\n",
        "4 | 128 | 2 | 1002 | 5 | 0.8070 | EI | 0.0001\n",
        "2 | 486 | 3 | 614 | 7 | 0.5413 | Var | 0.0001\n",
        "3 | 129 | 2 | 999 | 5 | 0.7773 | EI | 0.0001\n",
        "5 | 10 | 3 | 50 | 5 | 0.2266 | Var | 0.0001\n",
        "4 | 72 | 2 | 1472 | 5 | 0.7789 | EI | 0.0001"
      ]
    },
    {
      "metadata": {
        "id": "POaQftIYzLSz",
        "colab_type": "code",
        "colab": {}
      },
      "cell_type": "code",
      "source": [
        "parameters = [[3, 200, 4, 1000, 1], [3, 200, 4, 1000, 3], [3, 200, 4, 1000, 5],\n",
        "              [3, 256, 4, 1000, 7], [3, 200, 4, 1000, 9], [1, 256, 5, 1000, 3],\n",
        "              [2, 256, 5, 500, 3], [4, 128, 3, 1500, 3], [2, 512, 2, 800, 3],\n",
        "              [2, 128, 2, 2000, 3], [3, 355, 2, 4000, 7], [6, 10, 4, 1442, 1],\n",
        "              [6, 10, 4, 1442, 3],[3,572,3,2000,5], [3, 300, 4, 100, 5],\n",
        "              [2, 400, 3, 50, 7], [3, 214, 4, 1073, 5], [4, 256, 3, 1500, 3],\n",
        "              [5, 128, 3, 1000, 3], [4, 256, 3, 1500, 3], [5, 256, 3, 1500, 3],\n",
        "              [4, 260, 3, 985, 7], [3, 75, 4, 1960, 9], [3, 260, 3, 988, 5],\n",
        "              [2, 41, 1, 1287, 7], [3, 256, 3, 984, 7], [2, 461, 3, 1679, 9],\n",
        "              [4, 128, 2, 1002, 5], [2, 486, 3, 614, 7], [3, 129, 2, 999, 5],\n",
        "              [5, 10, 3, 50, 5]]\n",
        "accs = [0.5172, 0.6165, 0.4363, 0.4170, 0.4471, 0.4861, 0.4281, 0.7133, 0.3588,\n",
        "        0.3727, 0.3398, 0.3650, 0.5324,0.4325, 0.4749, 0.4597, 0.4347, 0.6833,\n",
        "        0.7463, 0.6833, 0.7204, 0.7750, 0.5518, 0.5641, 0.3458, 0.7424, 0.4853,\n",
        "        0.8070, 0.5413, 0.7713, 0.2266]\n",
        "parameters = np.array(parameters)\n",
        "accs = -1*np.array(accs).reshape((-1,1))"
      ],
      "execution_count": 0,
      "outputs": []
    },
    {
      "metadata": {
        "id": "Z0fN5joHGx-o",
        "colab_type": "code",
        "colab": {}
      },
      "cell_type": "code",
      "source": [
        "ker = GPy.kern.Matern52(5)"
      ],
      "execution_count": 0,
      "outputs": []
    },
    {
      "metadata": {
        "id": "0dcxWd7QIgVj",
        "colab_type": "code",
        "colab": {}
      },
      "cell_type": "code",
      "source": [
        "def expected_imp(model, x):\n",
        "    pred, var = model.predict_noiseless(x)\n",
        "    stddev = np.sqrt(var)\n",
        "    fmin = np.min(model.Y)\n",
        "    gamma = (fmin - pred)/stddev\n",
        "    return stddev * (gamma * scipy.stats.norm.cdf(gamma) + scipy.stats.norm.pdf(gamma))\n",
        "\n",
        "# Different utility function\n",
        "\n",
        "# Expected improvement\n",
        "def utility_ei(cvl, filt, fcl, neur, kern):\n",
        "    return expected_imp(m, np.array([[cvl, filt, fcl, neur, kern]]))\n",
        "\n",
        "# Variance of the GP. Maximizing this selects the point where the GP is \"most unsure\"\n",
        "# and leads to exploration of the optimzation domain\n",
        "def utility_var(cvl, filt, fcl, neur, kern):\n",
        "    pred, var = m.predict_noiseless(np.array([[cvl, filt, fcl, neur, kern]]))\n",
        "    return var\n",
        "\n",
        "# Negative Prediction of the GP. Maximizing this minimizes the prediction.\n",
        "# This might be useful as a last step, but wasn't required in the exercise.\n",
        "def utility_f(cvl, filt, fcl, neur, kern):\n",
        "    pred, var = m.predict_noiseless(np.array([[cvl, filt, fcl, neur, kern]]))\n",
        "    return -pred"
      ],
      "execution_count": 0,
      "outputs": []
    },
    {
      "metadata": {
        "id": "hYcmQAD4PGvR",
        "colab_type": "code",
        "colab": {}
      },
      "cell_type": "code",
      "source": [
        "for utility in [utility_ei, utility_var, utility_f]:\n",
        "    m = GPy.models.GPRegression(parameters, accs, ker)\n",
        "    m.optimize(messages=False,max_f_eval = 10000)\n",
        "\n",
        "    optimal_pars, info, _ = optunity.maximize(utility, num_evals=10000,\n",
        "                                              cvl=[1,5], filt=[10,600],\n",
        "                                              fcl=[1,5], neur=[50,2000],\n",
        "                                              kern=[3,9])\n",
        "    print(optimal_pars)"
      ],
      "execution_count": 0,
      "outputs": []
    }
  ]
}